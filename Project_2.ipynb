{
 "cells": [
  {
   "cell_type": "code",
   "execution_count": 1,
   "metadata": {},
   "outputs": [
    {
     "ename": "OperationalError",
     "evalue": "no such table: records",
     "output_type": "error",
     "traceback": [
      "\u001b[0;31m---------------------------------------------------------------------------\u001b[0m",
      "\u001b[0;31mOperationalError\u001b[0m                          Traceback (most recent call last)",
      "\u001b[0;32m<ipython-input-1-74d8ad5c0897>\u001b[0m in \u001b[0;36m<module>\u001b[0;34m\u001b[0m\n\u001b[1;32m     11\u001b[0m \u001b[0;34m\u001b[0m\u001b[0m\n\u001b[1;32m     12\u001b[0m \u001b[0;31m## executing QUERY to display Emp, First, Middle, Last, Gender, Salary columns from the table of 26 columns\u001b[0m\u001b[0;34m\u001b[0m\u001b[0;34m\u001b[0m\u001b[0;34m\u001b[0m\u001b[0m\n\u001b[0;32m---> 13\u001b[0;31m \u001b[0mmycur\u001b[0m\u001b[0;34m.\u001b[0m\u001b[0mexecute\u001b[0m\u001b[0;34m(\u001b[0m\u001b[0;34m\"SELECT Emp, First, Middle, Last, Gender, Salary FROM records\"\u001b[0m\u001b[0;34m)\u001b[0m\u001b[0;34m\u001b[0m\u001b[0;34m\u001b[0m\u001b[0m\n\u001b[0m\u001b[1;32m     14\u001b[0m \u001b[0;34m\u001b[0m\u001b[0m\n\u001b[1;32m     15\u001b[0m \u001b[0;31m## looping through entire table of selected columns and display the rows for that column\u001b[0m\u001b[0;34m\u001b[0m\u001b[0;34m\u001b[0m\u001b[0;34m\u001b[0m\u001b[0m\n",
      "\u001b[0;31mOperationalError\u001b[0m: no such table: records"
     ]
    }
   ],
   "source": [
    "##  INSTALL CSVTOSQLITE USING COMMAND (pip install csv-to-sqlite) \n",
    "\n",
    "## AFTER INSTALLING RUN THIS COMMAND csv-to-sqlite -f records.csv -o recordsdb.sqlite (MAKE SURE TO RUN THIS COMMAND WHILE INSIDE OF THE WORKING DIRECTORY YOU WANT THE DB TO BE STORED)\n",
    "\n",
    "import pandas as pd\n",
    "import sqlite3\n",
    "from sqlite3 import Error\n",
    "\n",
    "\n",
    "## creating connection to DB\n",
    "con = sqlite3.connect(\"anthony\\records\\recordsdb.sqlite\")\n",
    "\n",
    "## initializing cursor\n",
    "mycur = con.cursor() \n",
    "\n",
    "## executing QUERY to display Emp, First, Middle, Last, Gender, Salary columns from the table of 26 columns\n",
    "mycur.execute(\"SELECT Emp, First, Middle, Last, Gender, Salary FROM records\")\n",
    "\n",
    "## looping through entire table of selected columns and display the rows for that column\n",
    "for row in mycur:\n",
    "   print (row, \"\\n\")\n",
    "\n",
    "available_table=(mycur.fetchall())\n",
    "\n"
   ]
  },
  {
   "cell_type": "code",
   "execution_count": null,
   "metadata": {},
   "outputs": [],
   "source": []
  }
 ],
 "metadata": {
  "kernelspec": {
   "display_name": "Python 3",
   "language": "python",
   "name": "python3"
  },
  "language_info": {
   "codemirror_mode": {
    "name": "ipython",
    "version": 3
   },
   "file_extension": ".py",
   "mimetype": "text/x-python",
   "name": "python",
   "nbconvert_exporter": "python",
   "pygments_lexer": "ipython3",
   "version": "3.7.4"
  }
 },
 "nbformat": 4,
 "nbformat_minor": 2
}
